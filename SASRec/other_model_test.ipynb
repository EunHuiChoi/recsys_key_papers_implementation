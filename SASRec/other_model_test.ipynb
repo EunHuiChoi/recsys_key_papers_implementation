{
 "cells": [
  {
   "cell_type": "code",
   "execution_count": 1,
   "metadata": {},
   "outputs": [],
   "source": [
    "seq_data = [0, 1, 1, 2, 1, 0, 3, 3, 0, 1, 0, 3]\n",
    "num_state = 4\n"
   ]
  },
  {
   "cell_type": "code",
   "execution_count": 2,
   "metadata": {},
   "outputs": [],
   "source": [
    "def estimate_transition_matrix(data, num_state):\n",
    "    matrix = [[0]*num_state for _ in range(num_state)]\n",
    "    for i in range(len(seq_data)-1):\n",
    "        _from = seq_data[i]\n",
    "        _to = seq_data[i+1]\n",
    "        matrix[_from][_to]+=1\n",
    "    \n",
    "    for r in matrix:\n",
    "        div_val=sum(r)\n",
    "        if div_val > 0:\n",
    "            r[:]=[i/div_val for i in r]\n",
    "    return matrix"
   ]
  },
  {
   "cell_type": "code",
   "execution_count": 3,
   "metadata": {},
   "outputs": [],
   "source": [
    "tr_matrix = estimate_transition_matrix(seq_data, num_state)"
   ]
  },
  {
   "cell_type": "code",
   "execution_count": 6,
   "metadata": {},
   "outputs": [
    {
     "data": {
      "text/plain": [
       "[[0, 0, 0, 0], [0, 0, 0, 0], [0, 0, 0, 0], [0, 0, 0, 0]]"
      ]
     },
     "execution_count": 6,
     "metadata": {},
     "output_type": "execute_result"
    }
   ],
   "source": [
    "matrix = [[0]*num_state for _ in range(num_state)]\n",
    "matrix"
   ]
  },
  {
   "cell_type": "code",
   "execution_count": 7,
   "metadata": {},
   "outputs": [
    {
     "data": {
      "text/plain": [
       "[[0, 2, 0, 2], [2, 1, 1, 0], [0, 1, 0, 0], [1, 0, 0, 1]]"
      ]
     },
     "execution_count": 7,
     "metadata": {},
     "output_type": "execute_result"
    }
   ],
   "source": [
    "for i in range(len(seq_data)-1):\n",
    "    _from = seq_data[i]\n",
    "    _to = seq_data[i+1]\n",
    "    matrix[_from][_to]+=1\n",
    "matrix"
   ]
  },
  {
   "cell_type": "code",
   "execution_count": 8,
   "metadata": {},
   "outputs": [
    {
     "data": {
      "text/plain": [
       "[[0.0, 0.5, 0.0, 0.5],\n",
       " [0.5, 0.25, 0.25, 0.0],\n",
       " [0.0, 1.0, 0.0, 0.0],\n",
       " [0.5, 0.0, 0.0, 0.5]]"
      ]
     },
     "execution_count": 8,
     "metadata": {},
     "output_type": "execute_result"
    }
   ],
   "source": [
    "for r in matrix:\n",
    "    div_val=sum(r)\n",
    "    if div_val > 0:\n",
    "        r[:]=[i/div_val for i in r]\n",
    "matrix"
   ]
  },
  {
   "cell_type": "code",
   "execution_count": null,
   "metadata": {},
   "outputs": [],
   "source": []
  }
 ],
 "metadata": {
  "kernelspec": {
   "display_name": "base",
   "language": "python",
   "name": "python3"
  },
  "language_info": {
   "codemirror_mode": {
    "name": "ipython",
    "version": 3
   },
   "file_extension": ".py",
   "mimetype": "text/x-python",
   "name": "python",
   "nbconvert_exporter": "python",
   "pygments_lexer": "ipython3",
   "version": "3.9.9"
  },
  "orig_nbformat": 4
 },
 "nbformat": 4,
 "nbformat_minor": 2
}
